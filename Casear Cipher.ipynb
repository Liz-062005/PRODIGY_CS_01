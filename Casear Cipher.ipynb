{
  "cells": [
    {
      "cell_type": "code",
      "execution_count": null,
      "metadata": {
        "colab": {
          "base_uri": "https://localhost:8080/"
        },
        "id": "XoTg6LWVW_Vi",
        "outputId": "22e14e69-7c09-40d8-9318-864d04a98c9a"
      },
      "outputs": [
        {
          "name": "stdout",
          "output_type": "stream",
          "text": [
            "Caesar Cipher Ready!\n"
          ]
        }
      ],
      "source": [
        "def encrypt(text, shift):\n",
        "    result = \"\"\n",
        "    for char in text:\n",
        "        if char.isalpha():\n",
        "            base = ord('A') if char.isupper() else ord('a')\n",
        "            shifted = (ord(char) - base + shift) % 26 + base\n",
        "            result += chr(shifted)\n",
        "        else:\n",
        "            result += char\n",
        "    return result\n",
        "\n",
        "def decrypt(text, shift):\n",
        "    return encrypt(text, -shift)\n",
        "\n",
        "# Run this block and then the next block to interact\n",
        "print(\"Caesar Cipher Ready!\")"
      ]
    },
    {
      "cell_type": "code",
      "execution_count": null,
      "metadata": {
        "colab": {
          "base_uri": "https://localhost:8080/"
        },
        "id": "WaKZm20UXmxY",
        "outputId": "fdbc3baa-0531-4c35-bd9e-357179206ec1"
      },
      "outputs": [
        {
          "name": "stdout",
          "output_type": "stream",
          "text": [
            "Enter your message: Life\n",
            "Enter shift value (e.g., 3): 2\n",
            "Type 'e' to Encrypt or 'd' to Decrypt: d\n",
            "🔓 Decrypted Message: Jgdc\n"
          ]
        }
      ],
      "source": [
        "message = input(\"Enter your message: \")\n",
        "shift = int(input(\"Enter shift value (e.g., 3): \"))\n",
        "choice = input(\"Type 'e' to Encrypt or 'd' to Decrypt: \").lower()\n",
        "\n",
        "if choice == 'e':\n",
        "    encrypted = encrypt(message, shift)\n",
        "    print(\"🔐 Encrypted Message:\", encrypted)\n",
        "elif choice == 'd':\n",
        "    decrypted = decrypt(message, shift)\n",
        "    print(\"🔓 Decrypted Message:\", decrypted)\n",
        "else:\n",
        "    print(\"Invalid choice!\")"
      ]
    },
    {
      "cell_type": "code",
      "execution_count": null,
      "metadata": {
        "colab": {
          "background_save": true,
          "base_uri": "https://localhost:8080/"
        },
        "id": "rljFheLlapxU",
        "outputId": "379ae749-fd88-415f-a635-c0f31fc517b2"
      },
      "outputs": [
        {
          "name": "stdout",
          "output_type": "stream",
          "text": [
            "🔄 Caesar Cipher Tool: Encrypt & Decrypt with Ease 🔄\n",
            "🔐 Encrypted Message: Dbu\n",
            "🔓 Decrypted Message: Pxsb\n",
            "🔐 Encrypted Message: Hqwt\n",
            "🔓 Decrypted Message: Gilhcha\n"
          ]
        }
      ],
      "source": [
        "#Advance Version\n",
        "def encrypt(text, shift):\n",
        "    result = \"\"\n",
        "    for char in text:\n",
        "        if char.isalpha():\n",
        "            base = ord('A') if char.isupper() else ord('a')\n",
        "            shifted = (ord(char) - base + shift) % 26 + base\n",
        "            result += chr(shifted)\n",
        "        else:\n",
        "            result += char\n",
        "    return result\n",
        "\n",
        "def decrypt(text, shift):\n",
        "    return encrypt(text, -shift)\n",
        "\n",
        "history = []\n",
        "\n",
        "print(\"🔄 Caesar Cipher Tool: Encrypt & Decrypt with Ease 🔄\")\n",
        "\n",
        "while True:\n",
        "    message = input(\"\\n💬 Enter your message: \")\n",
        "\n",
        "    while True:\n",
        "        try:\n",
        "            shift = int(input(\"🔢 Enter shift value (e.g., 3): \"))\n",
        "            break\n",
        "        except ValueError:\n",
        "            print(\"⚠️ Please enter a valid number.\")\n",
        "\n",
        "    choice = input(\"👉 Type 'e' to Encrypt or 'd' to Decrypt (or 'q' to Quit): \").strip().lower()\n",
        "\n",
        "    if choice == 'e':\n",
        "        encrypted = encrypt(message, shift)\n",
        "        print(\"🔐 Encrypted Message:\", encrypted)\n",
        "        history.append(f\"Encrypted: '{message}' -> '{encrypted}' (Shift: {shift})\")\n",
        "\n",
        "    elif choice == 'd':\n",
        "        decrypted = decrypt(message, shift)\n",
        "        print(\"🔓 Decrypted Message:\", decrypted)\n",
        "        history.append(f\"Decrypted: '{message}' -> '{decrypted}' (Shift: {shift})\")\n",
        "\n",
        "    elif choice == 'q':\n",
        "        print(\"\\n📝 Operation History:\")\n",
        "        for h in history:\n",
        "            print(\"•\", h)\n",
        "        print(\"\\n👋 Exiting Caesar Cipher Tool. Bye!\")\n",
        "        break\n",
        "    else:\n",
        "        print(\"❌ Invalid choice! Please enter 'e', 'd', or 'q'.\")\n"
      ]
    }
  ],
  "metadata": {
    "colab": {
      "provenance": []
    },
    "kernelspec": {
      "display_name": "Python 3",
      "name": "python3"
    },
    "language_info": {
      "name": "python"
    }
  },
  "nbformat": 4,
  "nbformat_minor": 0
}
